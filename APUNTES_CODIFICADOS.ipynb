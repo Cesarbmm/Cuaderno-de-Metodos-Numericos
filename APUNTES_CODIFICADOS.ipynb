{
 "cells": [
  {
   "cell_type": "markdown",
   "id": "30054339",
   "metadata": {},
   "source": [
    "# Metodos Numericos \n",
    "# Clase 1 (21/04/2025)\n",
    "## Conceptos clave\n",
    "\n",
    "**Modelar:** Describir, abstraer caracteristicas de un problema\n",
    "\n",
    "**Simular:** Experimentacion con datos o caracteristicas\n",
    "\n",
    "**Emular:** Imitar ambos escenarios\n",
    "\n",
    "## Metodos Analiticos\n",
    "Manejo de grandes datos; Solucion exacta y conocida. Ejemplo:\n",
    "\n"
   ]
  },
  {
   "cell_type": "code",
   "execution_count": 24,
   "id": "0c455a27",
   "metadata": {},
   "outputs": [
    {
     "name": "stdout",
     "output_type": "stream",
     "text": [
      "[-2, 2]\n"
     ]
    }
   ],
   "source": [
    "import sympy as sp\n",
    "\n",
    "x = sp.symbols('x')\n",
    "ecuacion = x**2 - 4\n",
    "solucion = sp.solve(ecuacion, x)\n",
    "print(solucion)\n"
   ]
  },
  {
   "cell_type": "markdown",
   "id": "16f22d79",
   "metadata": {},
   "source": [
    "## Metodos Numericos\n",
    "Soluciona expresiones matematicas; aproximada al error, sin solucion exacta"
   ]
  },
  {
   "cell_type": "code",
   "execution_count": 25,
   "id": "636ec3d5",
   "metadata": {},
   "outputs": [
    {
     "name": "stdout",
     "output_type": "stream",
     "text": [
      "sqrt(pi)*erf(x)/2\n"
     ]
    }
   ],
   "source": [
    "import sympy as sp\n",
    "#Libreria usada solo para el ejemplo\n",
    "\n",
    "x = sp.symbols('x')\n",
    "integral = sp.integrate(sp.exp(-x**2), x)\n",
    "print(integral)\n"
   ]
  },
  {
   "cell_type": "markdown",
   "id": "3e7109a7",
   "metadata": {},
   "source": [
    "# Tipos de errores\n",
    "## Error de corte o truncamiento: Un algoritmo con truncamiento fijo puede ser exacto pero no preciso si se implementa sin cuidado. \n",
    "Tomando el numero irracional raiz de 3 se realizara un truncamiento de 5 cifras significativas"
   ]
  },
  {
   "cell_type": "code",
   "execution_count": 26,
   "id": "ef994382",
   "metadata": {},
   "outputs": [
    {
     "name": "stdout",
     "output_type": "stream",
     "text": [
      "1.7321\n"
     ]
    }
   ],
   "source": [
    "import math\n",
    "# Uso de la libreria math solo para ejemplo\n",
    "num = math.sqrt(3)\n",
    "num_truncado = float(f\"{num:.4f}\")\n",
    "print(num_truncado)  \n"
   ]
  },
  {
   "cell_type": "markdown",
   "id": "1d09df23",
   "metadata": {},
   "source": [
    "## Error de redondeo: Un algoritmo con mucho redondeo puede ser preciso pero no exacto, un algortimo debe ser preciso y exacto.\n"
   ]
  },
  {
   "cell_type": "code",
   "execution_count": 27,
   "id": "e27f7d80",
   "metadata": {},
   "outputs": [
    {
     "name": "stdout",
     "output_type": "stream",
     "text": [
      "1.7321\n"
     ]
    }
   ],
   "source": [
    "import math\n",
    "\n",
    "num = math.sqrt(3)\n",
    "num_redondeado = round(num, 4)\n",
    "print(num_redondeado)  \n"
   ]
  },
  {
   "cell_type": "markdown",
   "id": "02966108",
   "metadata": {},
   "source": [
    "## Representacion Numerica: Como una computadora almacena y maneja numeros usando bits\n"
   ]
  },
  {
   "cell_type": "code",
   "execution_count": 28,
   "id": "fe14c640",
   "metadata": {},
   "outputs": [
    {
     "name": "stdout",
     "output_type": "stream",
     "text": [
      "El valor representado es: 11.0\n"
     ]
    }
   ],
   "source": [
    "def punto_flotante(signo, exponente, fraccion_binaria):\n",
    "    #Codigo usado solo para este ejemplo de la clase 1\n",
    "    \n",
    "    # Calculamos el sesgo del exponente\n",
    "    sesgo = 127\n",
    "    exponente_real = exponente - sesgo\n",
    "\n",
    "    # Calculamos el valor de la mantisa (1 + fracción binaria)\n",
    "    mantisa = 1 + fraccion_binaria\n",
    "\n",
    "    # Calculamos el valor final de X\n",
    "    valor = ((-1) ** signo) * (2 ** exponente_real) * mantisa\n",
    "    return valor\n",
    "\n",
    "#Ejemplo\n",
    "signo = 0\n",
    "exponente = 130\n",
    "fraccion_binaria = 0.375  # 0.011 en binario\n",
    "resultado = punto_flotante(signo, exponente, fraccion_binaria)\n",
    "\n",
    "print(f\"El valor representado es: {resultado}\")\n"
   ]
  },
  {
   "cell_type": "markdown",
   "id": "982a0cd7",
   "metadata": {},
   "source": [
    "# Calculo de error\n",
    "## Error real"
   ]
  },
  {
   "cell_type": "code",
   "execution_count": 29,
   "id": "f4e4f7a2",
   "metadata": {},
   "outputs": [
    {
     "name": "stdout",
     "output_type": "stream",
     "text": [
      "Valor real: 1.7320508075688772\n",
      "Valor aproximado: 1.7321\n",
      "Error real: -4.919243112277982e-05\n"
     ]
    }
   ],
   "source": [
    "import math\n",
    "\n",
    "def calcular_error_real(valor_real, valor_aproximado):\n",
    "\n",
    "    error_real = valor_real - valor_aproximado\n",
    "    return error_real\n",
    "\n",
    "# Usando √3\n",
    "valor_real = math.sqrt(3)  # Valor exacto\n",
    "valor_aproximado = 1.7321  # Valor aproximado con 4 decimales\n",
    "\n",
    "error_real = calcular_error_real(valor_real, valor_aproximado)\n",
    "print(f\"Valor real: {valor_real}\")\n",
    "print(f\"Valor aproximado: {valor_aproximado}\")\n",
    "print(f\"Error real: {error_real}\")\n"
   ]
  },
  {
   "cell_type": "markdown",
   "id": "47d7fc27",
   "metadata": {},
   "source": [
    "## Error absoluto"
   ]
  },
  {
   "cell_type": "code",
   "execution_count": 30,
   "id": "5c67ccca",
   "metadata": {},
   "outputs": [
    {
     "name": "stdout",
     "output_type": "stream",
     "text": [
      "Valor real: 1.7320508075688772\n",
      "Valor aproximado: 1.7321\n",
      "Error absoluto: 4.919243112277982e-05\n"
     ]
    }
   ],
   "source": [
    "import math\n",
    "\n",
    "def calcular_error_absoluto(valor_real, valor_aproximado):\n",
    "    error_absoluto = abs(valor_real - valor_aproximado)\n",
    "    return error_absoluto\n",
    "\n",
    "#Usando √3\n",
    "valor_real = math.sqrt(3)  # Valor exacto\n",
    "valor_aproximado = 1.7321  # Valor aproximado con 4 decimales\n",
    "\n",
    "error_absoluto = calcular_error_absoluto(valor_real, valor_aproximado)\n",
    "print(f\"Valor real: {valor_real}\")\n",
    "print(f\"Valor aproximado: {valor_aproximado}\")\n",
    "print(f\"Error absoluto: {error_absoluto}\")"
   ]
  },
  {
   "cell_type": "markdown",
   "id": "83de5266",
   "metadata": {},
   "source": [
    "## Error relativo"
   ]
  },
  {
   "cell_type": "code",
   "execution_count": 31,
   "id": "0151c663",
   "metadata": {},
   "outputs": [
    {
     "name": "stdout",
     "output_type": "stream",
     "text": [
      "Valor real: 1.7320508075688772\n",
      "Valor aproximado: 1.7321\n",
      "Error relativo: 2.8401263350829057e-05\n"
     ]
    }
   ],
   "source": [
    "import math\n",
    "\n",
    "def calcular_error_relativo(valor_real, valor_aproximado):\n",
    "    error_relativo = abs((valor_real - valor_aproximado) / valor_real) \n",
    "    return error_relativo\n",
    "\n",
    "#Usando √3\n",
    "valor_real = math.sqrt(3)  # Valor exacto\n",
    "valor_aproximado = 1.7321  # Valor aproximado con 4 decimales\n",
    "\n",
    "error_relativo = calcular_error_relativo(valor_real, valor_aproximado)\n",
    "print(f\"Valor real: {valor_real}\")\n",
    "print(f\"Valor aproximado: {valor_aproximado}\")\n",
    "print(f\"Error relativo: {error_relativo}\")\n",
    "\n"
   ]
  },
  {
   "cell_type": "markdown",
   "id": "cd4dc35a",
   "metadata": {},
   "source": [
    "## Error relativo porcentual\n"
   ]
  },
  {
   "cell_type": "code",
   "execution_count": 32,
   "id": "95157140",
   "metadata": {},
   "outputs": [
    {
     "name": "stdout",
     "output_type": "stream",
     "text": [
      "Valor real: 1.7320508075688772\n",
      "Valor aproximado: 1.7321\n",
      "Error relativo: 0.0028401263350829055 %\n"
     ]
    }
   ],
   "source": [
    "import math\n",
    "\n",
    "def calcular_error_relativo_porcentual(valor_real, valor_aproximado):\n",
    "    error_relativo_porcentual = abs((valor_real - valor_aproximado) / valor_real) * 100\n",
    "\n",
    "    return error_relativo_porcentual\n",
    "\n",
    "#Usando √3\n",
    "valor_real = math.sqrt(3)  # Valor exacto\n",
    "valor_aproximado = 1.7321  # Valor aproximado con 4 decimales\n",
    "\n",
    "error_relativo_porcentual = calcular_error_relativo_porcentual(valor_real, valor_aproximado)\n",
    "print(f\"Valor real: {valor_real}\")\n",
    "print(f\"Valor aproximado: {valor_aproximado}\")\n",
    "print(f\"Error relativo: {error_relativo_porcentual} %\")"
   ]
  },
  {
   "cell_type": "markdown",
   "id": "95e60687",
   "metadata": {},
   "source": [
    "# Clase 2 (22/04/2025)\n",
    "## Representacion Numerica en 32bits: Consiste en la conversion de un binario a decimal y viceversa, se realizara el codigo ejemplo sin el uso de librerias y con el numero visto en clase 263.3 \n"
   ]
  },
  {
   "cell_type": "code",
   "execution_count": 33,
   "id": "31fbfd9b",
   "metadata": {},
   "outputs": [
    {
     "name": "stdout",
     "output_type": "stream",
     "text": [
      "Representación IEEE 754 en 32 bits de 263.3: 01000011100000111010011001100110\n"
     ]
    }
   ],
   "source": [
    "def convertir_parte_entera(num_parte_entera):\n",
    "    binario = \"\"\n",
    "    while num_parte_entera > 0:\n",
    "        binario = str(num_parte_entera % 2) + binario\n",
    "        num_parte_entera //= 2\n",
    "    return binario or \"0\"  # Devuelve cero si la parte entera es 0\n",
    "\n",
    "def convertir_parte_decimal(num_parte_decimal):\n",
    "    binario = \"\"\n",
    "    for _ in range(23):  # Limitar a 23 bits para la parte decimal\n",
    "        num_parte_decimal *= 2\n",
    "        bit = int(num_parte_decimal)\n",
    "        binario += str(bit)\n",
    "        num_parte_decimal -= bit\n",
    "        if num_parte_decimal == 0:\n",
    "            break\n",
    "    return binario\n",
    "\n",
    "def a_ieee754(numero):\n",
    "    signo = \"0\" if numero >= 0 else \"1\"\n",
    "    abs_numero = abs(numero)\n",
    "\n",
    "    parte_entera = int(abs_numero)\n",
    "    parte_decimal = abs_numero - parte_entera\n",
    "\n",
    "    binario_parte_entera = convertir_parte_entera(parte_entera)\n",
    "    binario_parte_decimal = convertir_parte_decimal(parte_decimal)\n",
    "\n",
    "    if parte_entera > 0:\n",
    "        binario_normalizado = binario_parte_entera + binario_parte_decimal\n",
    "        exponente = len(binario_parte_entera) - 1\n",
    "    else:\n",
    "        ceros_izquiera = binario_parte_decimal.find(\"1\")\n",
    "        binario_normalizado = binario_parte_decimal[ceros_izquiera + 1 :]\n",
    "        exponente = -(ceros_izquiera + 1)\n",
    "\n",
    "    exponente_sesgado = exponente + 127\n",
    "    exponente_binario = f\"{exponente_sesgado:08b}\"  # 8 bits para el exponente\n",
    "\n",
    "    mantisa = (binario_normalizado[1:24]).ljust(23, \"0\")  # 23 bits para la mantisa\n",
    "\n",
    "    return signo + exponente_binario + mantisa\n",
    "\n",
    "# Ejemplo de uso para el numero dado en clase:\n",
    "numero = 263.3\n",
    "ieee754 = a_ieee754(numero)\n",
    "print(f\"Representación IEEE 754 en 32 bits de {numero}: {ieee754}\")\n",
    "    "
   ]
  },
  {
   "cell_type": "markdown",
   "id": "be16d2e0",
   "metadata": {},
   "source": [
    "## Representacion Numerica de 64 bits: Consiste en la conversion de un binario a decimal y viceversa, esto para mejorar la precision, se realizara el codigo ejemplo sin el uso de librerias y con el numero visto en clase 263.3 "
   ]
  },
  {
   "cell_type": "code",
   "execution_count": 34,
   "id": "64d49b10",
   "metadata": {},
   "outputs": [
    {
     "name": "stdout",
     "output_type": "stream",
     "text": [
      "Representación IEEE 754 (64 bits) de 263.3:\n",
      "Signo (1 bit): 0\n",
      "Exponente (11 bits): 10000000111\n",
      "Mantisa (52 bits): 1000001110100110011001100110011001100110011001100110\n"
     ]
    }
   ],
   "source": [
    "def convertir_parte_entera(num):\n",
    "    #Convierte la parte entera a binario\n",
    "    return bin(int(num))[2:] if num != 0 else \"0\"\n",
    "\n",
    "def convertir_parte_decimal(num, precision=52):\n",
    "    \"\"\"Convierte la parte decimal a binario con la precisión especificada\"\"\"\n",
    "    binary = \"\"\n",
    "    for _ in range(precision):\n",
    "        num *= 2\n",
    "        bit = int(num)\n",
    "        binary += str(bit)\n",
    "        num -= bit\n",
    "        if num == 0:\n",
    "            break\n",
    "    return binary\n",
    "\n",
    "def double_precision(numero):\n",
    "    #Convierte un número a formato IEEE 754 de 64 bits\n",
    "    # Signo (1 bit)\n",
    "    signo = '0' if numero >= 0 else '1'\n",
    "    abs_num = abs(numero)\n",
    "    \n",
    "    # Parte entera y decimal\n",
    "    parte_entera = int(abs_num)\n",
    "    parte_decimal = abs_num - parte_entera\n",
    "    \n",
    "    # Convertir a binario\n",
    "    bin_entero = convertir_parte_entera(parte_entera)\n",
    "    bin_decimal = convertir_parte_decimal(parte_decimal)\n",
    "    \n",
    "    # Normalización\n",
    "    if parte_entera > 0:\n",
    "        mantisa = bin_entero + bin_decimal\n",
    "        exponente = len(bin_entero) - 1\n",
    "    else:\n",
    "        pos = bin_decimal.find('1')\n",
    "        mantisa = bin_decimal[pos+1:] if pos != -1 else '0'\n",
    "        exponente = -(pos + 1) if pos != -1 else 0\n",
    "    \n",
    "    # Exponente sesgado (11 bits, sesgo 1023)\n",
    "    exp_sesgado = exponente + 1023\n",
    "    exp_binario = f\"{exp_sesgado:011b}\"\n",
    "    \n",
    "    # Mantisa (52 bits)\n",
    "    mantisa = (mantisa[:52]).ljust(52, '0')\n",
    "    \n",
    "    return signo + exp_binario + mantisa\n",
    "\n",
    "# Ejemplo de uso\n",
    "numero = 263.3\n",
    "ieee754 = double_precision(numero)\n",
    "print(f\"Representación IEEE 754 (64 bits) de {numero}:\")\n",
    "print(f\"Signo (1 bit): {ieee754[0]}\")\n",
    "print(f\"Exponente (11 bits): {ieee754[1:12]}\")\n",
    "print(f\"Mantisa (52 bits): {ieee754[12:]}\")\n",
    "\n"
   ]
  },
  {
   "cell_type": "markdown",
   "id": "35f82a08",
   "metadata": {},
   "source": [
    "## Aritmetica de digitos finitos de un computador\n",
    "Consiste en la representacion en punto flotante y sus operaciones definidas: suma, resta, multiplicacion y division\n"
   ]
  },
  {
   "cell_type": "code",
   "execution_count": 35,
   "id": "5df7aac4",
   "metadata": {},
   "outputs": [
    {
     "name": "stdout",
     "output_type": "stream",
     "text": [
      "Números en punto flotante: Número 1 (fl): 0.71429, Número 2 (fl): 0.71425\n",
      "Suma: 0.14285399999999998\n",
      "Resta: 3.999999999992898e-05\n",
      "Multiplicación: 0.5101816325\n",
      "División: 0.100005600280014\n",
      "Resta real: 3.471428571433233e-05\n",
      "Resta Aprox: 3.999999999992898e-05\n",
      "Error relativo porcentual de la suma: 15.22633744820037%\n"
     ]
    }
   ],
   "source": [
    "def representacion_flotante(numero):\n",
    "    if numero == 0:\n",
    "        return 0.0\n",
    "    # Convertir a representación de punto flotante\n",
    "    while abs(numero) >= 1:\n",
    "        numero /= 10\n",
    "    return numero\n",
    "\n",
    "def suma(num1, num2):\n",
    "    resultado = num1 + num2\n",
    "    return representacion_flotante(resultado)\n",
    "\n",
    "def resta(num1, num2):\n",
    "    resultado = num1 - num2\n",
    "    return representacion_flotante(resultado)\n",
    "\n",
    "def multiplicacion(num1, num2):\n",
    "    resultado = num1 * num2\n",
    "    return representacion_flotante(resultado)\n",
    "\n",
    "def division(num1, num2):\n",
    "    if num2 != 0:\n",
    "        resultado = num1 / num2\n",
    "        return representacion_flotante(resultado)\n",
    "    else:\n",
    "        raise ValueError(\"No se puede dividir entre cero\")\n",
    "\n",
    "def error_relativo_porcentual(valor_real, valor_aproximado):\n",
    "    if valor_real == 0:\n",
    "        raise ValueError(\"El valor real no puede ser cero para calcular el error relativo.\")\n",
    "    error = abs((valor_real - valor_aproximado) / valor_real) * 100\n",
    "    return error\n",
    "\n",
    "# Ejemplo con los numeros dados en la clase usando redondeo a 5 digitos\n",
    "numero1 = 0.71429\n",
    "numero1_real = 5/7\n",
    "numero2 = 0.71425\n",
    "numero2_real = 0.714251\n",
    "\n",
    "# Convertir números a representación flotante\n",
    "num1_fl = representacion_flotante(numero1)\n",
    "num2_fl = representacion_flotante(numero2)\n",
    "\n",
    "print(f\"Números en punto flotante: Número 1 (fl): {num1_fl}, Número 2 (fl): {num2_fl}\")\n",
    "print(f\"Suma: {suma(num1_fl, num2_fl)}\")\n",
    "print(f\"Resta: {resta(num1_fl, num2_fl)}\")\n",
    "print(f\"Multiplicación: {multiplicacion(num1_fl, num2_fl)}\")\n",
    "print(f\"División: {division(num1_fl, num2_fl)}\")\n",
    "\n",
    "# Realizar la resta aproximada\n",
    "resta_aprox = resta(num1_fl, num2_fl)\n",
    "\n",
    "# Calcular error relativo porcentual con los valores reales\n",
    "valor_real = numero1_real - numero2_real \n",
    "error_relativo = error_relativo_porcentual(valor_real, resta_aprox)\n",
    "\n",
    "# Resultados tal como se vio en clase\n",
    "print(f\"Resta real: {valor_real}\")\n",
    "print(f\"Resta Aprox: {resta_aprox}\")\n",
    "print(f\"Error relativo porcentual de la suma: {error_relativo}%\")"
   ]
  },
  {
   "cell_type": "markdown",
   "id": "cf58d7ca",
   "metadata": {},
   "source": [
    "## Convergencia, Divergencia y Tolerancia\n",
    "**Convergencia:** Si al aumentar el numero de iteracion, los resultados se acercan cada vez mas a la solucion exacta\n",
    "\n",
    "**Diverge:** Si los resultados se alejan indefinidamente o no se estabilizan.\n",
    "\n",
    "**Tolerancia:** Es el limite aceptable del error que se impone para detener el metodo cuando se alcanza una solucion suficientemente buena, para ello se usa criterio de parada."
   ]
  },
  {
   "cell_type": "code",
   "execution_count": 36,
   "id": "91d2f491",
   "metadata": {},
   "outputs": [
    {
     "data": {
      "image/png": "[encoded data removed]",
      "text/plain": [
       "<Figure size 800x500 with 1 Axes>"
      ]
     },
     "metadata": {},
     "output_type": "display_data"
    }
   ],
   "source": [
    "import matplotlib.pyplot as plt\n",
    "import numpy as np\n",
    "\n",
    "# Generar el eje x (iteraciones)\n",
    "iteraciones = np.linspace(1, 20, 20)\n",
    "\n",
    "# Ejemplos de funciones para cada comportamiento\n",
    "def convergente(x):\n",
    "    return np.exp(-0.3 * x)\n",
    "\n",
    "def divergente(x):\n",
    "    return np.exp(0.2 * x)\n",
    "\n",
    "def oscilante(x):\n",
    "    return np.abs(np.sin(x))\n",
    "\n",
    "# Calcular valores\n",
    "y_convergente = convergente(iteraciones)\n",
    "y_divergente = divergente(iteraciones)\n",
    "y_oscilante = oscilante(iteraciones)\n",
    "\n",
    "# Crear la gráfica\n",
    "plt.figure(figsize=(8, 5))\n",
    "plt.plot(iteraciones, y_convergente, label=\"Convergente\", color=\"green\")\n",
    "plt.plot(iteraciones, y_divergente, label=\"Divergente\", color=\"red\")\n",
    "plt.plot(iteraciones, y_oscilante, label=\"Oscilante/Inestable\", color=\"orange\")\n",
    "\n",
    "# Personalización\n",
    "plt.xlabel(\"Iteraciones\")\n",
    "plt.ylabel(\"Error\")\n",
    "plt.title(\"Ejemplo de Comportamientos: Convergente, Divergente y Oscilante\")\n",
    "plt.legend()\n",
    "plt.grid(True)\n",
    "\n",
    "# Mostrar la gráfica\n",
    "plt.show()\n",
    "\n",
    "\n"
   ]
  },
  {
   "cell_type": "markdown",
   "id": "4ddf0dc3",
   "metadata": {},
   "source": [
    "## Criterios de parada\n",
    "\n",
    "Lo utilizamos en algoritmos para evitar lazos infinitos\n",
    "\n",
    "1. **Número de iteraciones**: $i < K$.\n",
    "2. **Error absoluto**: $|x_{\\text{nuevo}} - x_{\\text{anterior}}| < \\epsilon_{\\text{abs}}$.\n",
    "3. **Error relativo**: $\\frac{|x_{\\text{nuevo}} - x_{\\text{anterior}}|}{|x_{\\text{nuevo}}|} < \\epsilon_{\\text{rel}}$.\n",
    "4. **Valor de la función**: $|f(x)| < \\epsilon_{\\text{func}}$.\n",
    "5. **Tiempo máximo**: $t < T$."
   ]
  },
  {
   "cell_type": "code",
   "execution_count": 37,
   "id": "b7dc2517",
   "metadata": {},
   "outputs": [
    {
     "name": "stdout",
     "output_type": "stream",
     "text": [
      "Converge con error absoluto en la iteracion 6.\n",
      "Resultado: 5.000000000016778\n"
     ]
    }
   ],
   "source": [
    "import time\n",
    "\n",
    "def metodo_newton_raphson(N, max_iteraciones=100, abs_tolerancia=1e-6, rel_tolerancia=1e-6, func_tolerancia=1e-6, tiempo_max=5):\n",
    "    \n",
    "    # Definición de la función f(x) = x^2 - N y su derivada f'(x) = 2x\n",
    "    def f(x):\n",
    "        return x**2 - N\n",
    "\n",
    "    def f_prime(x):\n",
    "        return 2 * x\n",
    "\n",
    "    # Inicialización\n",
    "    x = N / 2.0  # Suposición inicial\n",
    "    start_time = time.time()\n",
    "    \n",
    "    for i in range(1, max_iteraciones + 1):\n",
    "        # Evaluar función y derivada\n",
    "        fx = f(x)\n",
    "        fpx = f_prime(x)\n",
    "        \n",
    "        # Actualización de Newton-Raphson\n",
    "        x_nueva = x - fx / fpx\n",
    "        \n",
    "        # Calcular errores\n",
    "        abs_error = abs(x_nueva - x)\n",
    "        rel_error = abs_error / abs(x_nueva)\n",
    "        \n",
    "        # Criterios de parada\n",
    "        if abs_error < abs_tolerancia:\n",
    "            print(f\"Converge con error absoluto en la iteracion {i}.\")\n",
    "            break\n",
    "        if rel_error < rel_tolerancia:\n",
    "            print(f\"Converge con error relativo en la iteracion{i}.\")\n",
    "            break\n",
    "        if abs(fx) < func_tolerancia:\n",
    "            print(f\"Converge en el valor de la funcion en la iteracion {i}.\")\n",
    "            break\n",
    "        if time.time() - start_time > tiempo_max:\n",
    "            print(f\"Parada por limite de tiempo en la iteracion{i}.\")\n",
    "            break\n",
    "\n",
    "        # Actualizar x\n",
    "        x = x_nueva\n",
    "\n",
    "    else:\n",
    "        print(\"Parada por maximo de iteraciones.\")\n",
    "    \n",
    "    return x\n",
    "\n",
    "#USO CON UN NUMERO CON RAIZ CUADRADA \n",
    "N = 25  \n",
    "resultado = metodo_newton_raphson(N)\n",
    "print(f\"Resultado: {resultado}\")\n"
   ]
  },
  {
   "cell_type": "markdown",
   "id": "8f4fba28",
   "metadata": {},
   "source": [
    "# Clase 3 (29/04/2025)\n",
    "\n",
    "## Soluciones de sistemas de ecuacions no lineales\n",
    "\n",
    "## Raices de una ecuacion\n",
    "La raiz x es la solucion de una ecuacion f de la forma f(x)=0, conocida como solucion o cero\n",
    "\n",
    "## Teorema del valor intermedio\n",
    "Si $f \\in C[a,b]$ y $K$ es cualquier número entre $f(a)$ y $f(b)$, entonces existe un número $c$ en $(a,b)$ para el cual $f(c) = K$.\n",
    "\n",
    "\n",
    "## Busqueda de cambio de signo\n",
    "Un intervalo [a,b], la funcion $f(x)$ toma valores de diferente signo en los extemos de la siguiente forma:\n",
    "\n",
    "Si $f(p) \\cdot f(a) < 0 ;$ la raiz esta en $[a,p]$\n",
    "\n",
    "Si $f(p) \\cdot f(b) < 0 ;$ la raiz esta en $[p,b]$\n",
    "\n",
    "## Metodo de la Biseccion\n",
    "Suponga que $f \\in C[a,b]$ y $f(a) \\cdot f(b)$, el metodo de biseccion genera una sucesion que se aproxima a cero p de f con:\n",
    "\n",
    "$|p_n - p| \\leq \\frac{b-a}{2^n}, \\quad \\text{cuando } n \\geq 1$\n",
    "\n",
    "## Pasos para un buen metodo de biseccion\n",
    "\n",
    "**Paso 1:** Punto medio\n",
    "\n",
    "**Paso 2:** Evaluar los resultados de las funciones\n",
    "\n",
    "**Paso 3** Determinar el nuevo intervalo\n",
    "\n",
    "**Paso 4:** Calcule el error(criterio de parada)\n",
    "\n",
    "**Paso 5:** Volver al paso 1\n",
    "\n",
    "## Numero de iteracion dada por:\n",
    "\n",
    "$n \\geq \\log_2 \\left(\\frac{b-a}{|p_n - p|} \\right), \\quad \\text{cuando } |p_n - p| > 0$\n",
    "\n",
    "## Razon de convergencia:\n",
    "$O (\\frac{1}{2^n})$\n",
    "\n",
    "$p_n = p + O (1/2^n)$\n",
    "\n",
    "## Funcion signum\n",
    "Es una buena practica para no almacenar los valores:\n",
    "$$\n",
    "sgn(x) =\n",
    "\\begin{cases} \n",
    "-1, & \\text{si } x < 0 \\\\\n",
    "0, & \\text{si } x \\geq 0 \\\\\n",
    "1, & \\text{si } x > 0\n",
    "\\end{cases}\n",
    "$$\n",
    "\n",
    "$sgn(f(a_n)sgn(f(p_n))) < 0 $ en lugar de $f(a_n)f(p_n) <0$\n",
    "\n",
    "\n",
    "\n",
    "\n",
    "\n",
    "Tomando el ejemplo de la clase se hara el ejemplo con:\n",
    "\n",
    "$f(x) = x^3 + 4x^2 - 10; [1,2] \\quad \\text {con precision de } 10^{-1} $"
   ]
  },
  {
   "cell_type": "code",
   "execution_count": 38,
   "id": "796bd6be",
   "metadata": {},
   "outputs": [
    {
     "name": "stdout",
     "output_type": "stream",
     "text": [
      "Iter\ta\t\tb\t\tp\t\tf(a)\tf(b)\tf(p)\tTOL\n",
      "------------------------------------------------------------------------------------------\n",
      "0\t1.000000\t2.000000\t1.500000\t-\t+\t+\t0.500000\n",
      "1\t1.000000\t1.500000\t1.250000\t-\t+\t-\t0.250000\n",
      "2\t1.250000\t1.500000\t1.375000\t-\t+\t+\t0.125000\n",
      "3\t1.250000\t1.375000\t1.312500\t-\t+\t-\t0.062500\n",
      "4\t1.312500\t1.375000\t1.343750\t-\t+\t-\t0.031250\n",
      "5\t1.343750\t1.375000\t1.359375\t-\t+\t-\t0.015625\n",
      "6\t1.359375\t1.375000\t1.367188\t-\t+\t+\t0.007812\n",
      "7\t1.359375\t1.367188\t1.363281\t-\t+\t-\t0.003906\n",
      "8\t1.363281\t1.367188\t1.365234\t-\t+\t+\t0.001953\n",
      "9\t1.363281\t1.365234\t1.364258\t-\t+\t-\t0.000977\n",
      "10\t1.364258\t1.365234\t1.364746\t-\t+\t-\t0.000488\n",
      "11\t1.364746\t1.365234\t1.364990\t-\t+\t-\t0.000244\n",
      "12\t1.364990\t1.365234\t1.365112\t-\t+\t-\t0.000122\n",
      "13\t1.365112\t1.365234\t1.365173\t-\t+\t-\t0.000061\n",
      "14\t1.365173\t1.365234\t1.365204\t-\t+\t-\t0.000031\n",
      "15\t1.365204\t1.365234\t1.365219\t-\t+\t-\t0.000015\n",
      "16\t1.365219\t1.365234\t1.365227\t-\t+\t-\t0.000008\n",
      "\n",
      "Resultado final:\n",
      "Raíz encontrada: 1.36522675\n",
      "Iteraciones realizadas: 16\n",
      "Convergencia alcanzada en 16 iteraciones.\n"
     ]
    }
   ],
   "source": [
    "from math import sin, tan, exp\n",
    "def signum(x):\n",
    "    #Devuelve el signo de un número: '-', '0' o '+'\n",
    "    if x > 0:\n",
    "        return '+'\n",
    "    elif x < 0:\n",
    "        return '-'\n",
    "    return '0'\n",
    "\n",
    "def metodo_biseccion(funcion, a, b, tol, max_iteraciones):\n",
    "    # Verificar que los extremos iniciales tienen signos opuestos\n",
    "    fa = funcion(a)\n",
    "    fb = funcion(b)\n",
    "    if signum(fa) == signum(fb) and fa != 0:\n",
    "        return None, 0, \"La función debe cambiar de signo en el intervalo dado.\"\n",
    "\n",
    "    # Cabecera de la tabla de resultados\n",
    "    print(\"Iter\\ta\\t\\tb\\t\\tp\\t\\tf(a)\\tf(b)\\tf(p)\\tTOL\")\n",
    "    print(\"-\"*90)\n",
    "    \n",
    "    iteracion = 0\n",
    "    while iteracion < max_iteraciones:\n",
    "        p = (a + b) / 2\n",
    "        fp = funcion(p)\n",
    "        tol_actual = abs(b - a) / 2\n",
    "        \n",
    "        # Imprimir solo signos para f(a), f(b), f(p) para no almacenar valores grandes\n",
    "        print(f\"{iteracion}\\t{a:.6f}\\t{b:.6f}\\t{p:.6f}\\t{signum(fa)}\\t{signum(fb)}\\t{signum(fp)}\\t{tol_actual:.6f}\")\n",
    "\n",
    "        if abs(fp) < tol or tol_actual < tol:\n",
    "            return p, iteracion, f\"Convergencia alcanzada en {iteracion} iteraciones.\"\n",
    "\n",
    "        if signum(fa) == signum(fp):\n",
    "            a = p\n",
    "            fa = fp\n",
    "        else:\n",
    "            b = p\n",
    "            fb = fp\n",
    "\n",
    "        iteracion += 1\n",
    "\n",
    "    return None, iteracion, \"El proceso falló después del número máximo de iteraciones.\"\n",
    "\n",
    "# USO PARA PROBAR CON LAS FUNCIONES DADAS EN LOS EJERCICIOS\n",
    "if __name__ == \"__main__\":\n",
    "    def f(x):\n",
    "        \"\"\"Ejemplo con la primera funcion\"\"\"\n",
    "        return x**3 +4*x**2 -10\t\n",
    "\n",
    "    a, b = 1,2 # Intervalo inicial\n",
    "    # Definición de la función\n",
    "    tol = 1e-5\n",
    "    max_iter = 100\n",
    "\n",
    "    raiz, iteraciones, mensaje = metodo_biseccion(f, a, b, tol, max_iter)\n",
    "    print(\"\\nResultado final:\")\n",
    "    if raiz is not None:\n",
    "        print(f\"Raíz encontrada: {raiz:.8f}\")\n",
    "        print(f\"Iteraciones realizadas: {iteraciones}\") \n",
    "    print(mensaje)\n",
    "    "
   ]
  },
  {
   "cell_type": "markdown",
   "id": "546ed1cf",
   "metadata": {},
   "source": [
    "# Clase 4 (6/04/2025)\n",
    "\n",
    "## Soluciones de sistemas de ecuacions no lineales"
   ]
  },
  {
   "cell_type": "markdown",
   "id": "bf209078",
   "metadata": {},
   "source": [
    "# Método del Punto Fijo\n",
    "\n",
    "El método del punto fijo para una función es un procedimiento en el que se busca un número \\( p \\) tal que, cuando se aplica la función, el valor no cambia, es decir:\n",
    "\n",
    "$$\n",
    "p = g(p)\n",
    "$$\n",
    "\n",
    "Este método consiste en transformar una función \\( f(x) \\) en una nueva función \\( g(x) \\) de la forma:\n",
    "\n",
    "$$\n",
    "x_{n+1} = g(x_n)\n",
    "$$\n",
    "\n",
    "Para garantizar la convergencia del método, es necesario que la derivada de \\( g(x) \\) cumpla la siguiente condición:\n",
    "\n",
    "$$\n",
    "|g'(x)| \\leq k < 1\n",
    "$$\n",
    "\n",
    "## Cálculo del Error\n",
    "\n",
    "El error relativo en cada iteración se calcula mediante la siguiente fórmula:\n",
    "\n",
    "$$\n",
    "e = \\left| \\frac{x_{n+1} - x_n}{x_{n+1}} \\right|\n",
    "$$\n",
    "\n",
    "## Ejemplo\n",
    "\n",
    "Usaremos como ejemplo la función:\n",
    "\n",
    "$$\n",
    "f(x) = x^3 - 2x + 5\n",
    "$$\n"
   ]
  },
  {
   "cell_type": "code",
   "execution_count": 39,
   "id": "da9ebbdd",
   "metadata": {},
   "outputs": [
    {
     "name": "stdout",
     "output_type": "stream",
     "text": [
      "Iter\tX0\t\tX1\t\tError\n",
      "--------------------------------------------------\n",
      "0   \t1.500000  \t0.629961+1.091124j\t1.395536  \n",
      "1   \t0.629961+1.091124j\t1.049603+1.246995j\t0.447656  \n",
      "2   \t1.049603+1.246995j\t1.077808+1.133292j\t0.117149  \n",
      "3   \t1.077808+1.133292j\t1.045866+1.127457j\t0.032470  \n",
      "4   \t1.045866+1.127457j\t1.044946+1.136528j\t0.009117  \n",
      "\n",
      "Resultado final:\n",
      "Raíz encontrada: 1.04494557+1.13652788j\n",
      "Iteraciones realizadas: 5\n",
      "Convergencia alcanzada.\n"
     ]
    }
   ],
   "source": [
    "import math\n",
    "\n",
    "def punto_fijo(funcion, x0, tol, max_iteraciones):\n",
    "    print(\"Iter\\tX0\\t\\tX1\\t\\tError\")\n",
    "    print(\"-\" * 50)\n",
    "\n",
    "    iteracion = 0\n",
    "\n",
    "    while iteracion < max_iteraciones:\n",
    "        try:\n",
    "            x1 = funcion(x0)\n",
    "        except ValueError as e:\n",
    "            return None, iteracion, f\"Error en la función g(x): {e}\"\n",
    "\n",
    "        error = abs(x1 - x0)\n",
    "        print(f\"{iteracion:<4d}\\t{x0:<10.6f}\\t{x1:<10.6f}\\t{error:<10.6f}\")\n",
    "\n",
    "        if error < tol:\n",
    "            return x1, iteracion + 1, \"Convergencia alcanzada.\"\n",
    "\n",
    "        x0 = x1\n",
    "        iteracion += 1\n",
    "\n",
    "    return None, iteracion, \"El proceso falló después del número máximo de iteraciones.\"\n",
    "\n",
    "# Ejemplo de uso\n",
    "if __name__ == \"__main__\":\n",
    "    def g(x):\n",
    "        # Usamos una función g(x) que no crezca tan rápido para evitar overflow\n",
    "        return (-5 + 2*x) ** (1/3)\n",
    "\n",
    "    # Definir los valores necesarios\n",
    "    x0 = 1.5  # Valor inicial\n",
    "    tol = 1e-2\n",
    "    max_iteraciones = 100\n",
    "\n",
    "    # Ejecutar el método\n",
    "    raiz, iteracion, mensaje = punto_fijo(g, x0, tol, max_iteraciones)\n",
    "\n",
    "    # Mostrar resultado final\n",
    "    print(\"\\nResultado final:\")\n",
    "    if raiz is not None:\n",
    "        print(f\"Raíz encontrada: {raiz:.8f}\")\n",
    "    print(f\"Iteraciones realizadas: {iteracion}\")\n",
    "    print(mensaje)\n",
    "\n",
    "\n",
    "\n"
   ]
  },
  {
   "cell_type": "markdown",
   "id": "b6fd0ef0",
   "metadata": {},
   "source": [
    "## Método de Newton-Raphson\n",
    "\n",
    "El método de Newton-Raphson es un procedimiento iterativo utilizado para encontrar la raíz de una función \\( f(x) \\). Para su aplicación, es necesario calcular la derivada \\( f'(x) \\).\n",
    "\n",
    "## Fórmula de Iteración\n",
    "\n",
    "Dado un valor inicial \\( x_0 \\), la actualización de la aproximación se realiza mediante la siguiente ecuación:\n",
    "\n",
    "$$\n",
    "x_n = x_{n-1} - \\frac{f(x_{n-1})}{f'(x_{n-1})}, \\quad n \\geq 1\n",
    "$$\n",
    "\n",
    "Este método converge rápidamente hacia la raíz si la función \\( f(x) \\) y su derivada \\( f'(x) \\) cumplen ciertas condiciones de diferenciabilidad y el valor inicial \\( x_0 \\) está lo suficientemente cerca de la raíz.\n",
    "\n",
    "Algunas desventajas pueden ser cuando:\n",
    "\n",
    "$$ f'(x) = 0 $$\n",
    "\n",
    "ya que puede haber divergencia o loops repetitivos.\n",
    "\n",
    "Consideraremos la función:\n",
    "\n",
    "$$\n",
    "f(x) = \\cos(x) - x = 0\n",
    "$$\n"
   ]
  },
  {
   "cell_type": "code",
   "execution_count": 40,
   "id": "9b1147c1",
   "metadata": {},
   "outputs": [
    {
     "name": "stdout",
     "output_type": "stream",
     "text": [
      "Iter\tX0\t\tX1\t\tError\n",
      "--------------------------------------------------\n",
      "0   \t1.500000  \t0.784472  \t0.715528  \n",
      "1   \t0.784472  \t0.739519  \t0.044954  \n",
      "2   \t0.739519  \t0.739085  \t0.000434  \n",
      "3   \t0.739085  \t0.739085  \t0.000000  \n",
      "\n",
      "Resultado final:\n",
      "Raíz encontrada: 0.73908513\n",
      "Iteraciones realizadas: 3\n",
      "Convergencia alcanzada.\n"
     ]
    }
   ],
   "source": [
    "# Metodo de Newton-Raphson\n",
    "\n",
    "import math\n",
    "from math import cos, sin\n",
    "\n",
    "\n",
    "def newton_raphson(funcion, derivada, x0, tol, max_iteraciones):\n",
    "    # Cabecera de la tabla\n",
    "    print(\"Iter\\tX0\\t\\tX1\\t\\tError\")\n",
    "    print(\"-\" * 50)\n",
    "\n",
    "    iteracion = 0\n",
    "\n",
    "    while iteracion < max_iteraciones:\n",
    "        fx0 = funcion(x0)\n",
    "        dfx0 = derivada(x0)\n",
    "\n",
    "        if dfx0 == 0:\n",
    "            return None, iteracion, \"La derivada es cero. No se puede continuar.\"\n",
    "\n",
    "        x1 = x0 - fx0 / dfx0\n",
    "        error = abs(x1 - x0)\n",
    "\n",
    "        print(f\"{iteracion:<4d}\\t{x0:<10.6f}\\t{x1:<10.6f}\\t{error:<10.6f}\")\n",
    "\n",
    "        if error < tol:\n",
    "            return x1, iteracion, \"Convergencia alcanzada.\"\n",
    "\n",
    "        x0 = x1\n",
    "        iteracion += 1\n",
    "\n",
    "    return None, iteracion, \"El proceso falló después del número máximo de iteraciones.\"\n",
    "\n",
    "# Ejemplo de uso\n",
    "\n",
    "if __name__ == \"__main__\":\n",
    "    def f(x):\n",
    "        \"\"\"Ejemplo de función f(x)\"\"\"\n",
    "        return cos(x) - x\n",
    "\n",
    "    def df(x):\n",
    "        \"\"\"Derivada de la función f(x)\"\"\"\n",
    "        return -sin(x) - 1\n",
    "\n",
    "    x0 = 1.5  # Valor inicial\n",
    "    tol = 1e-5\n",
    "    max_iteraciones = 100\n",
    "\n",
    "    raiz, iteracion, mensaje = newton_raphson(f, df, x0, tol, max_iteraciones)\n",
    "    \n",
    "    print(\"\\nResultado final:\")\n",
    "    if raiz is not None:\n",
    "        print(f\"Raíz encontrada: {raiz:.8f}\")\n",
    "    print(f\"Iteraciones realizadas: {iteracion}\") \n",
    "    print(mensaje)\n",
    "    \n",
    "    "
   ]
  },
  {
   "cell_type": "markdown",
   "id": "bfe183ad",
   "metadata": {},
   "source": [
    "## Método de la Secante\n",
    "\n",
    "El método de la secante es similar al método de Newton-Raphson, pero no requiere calcular la derivada de la función. En su lugar, utiliza dos aproximaciones anteriores, \\( x_{n-1} \\) y \\( x_{n-2} \\), para estimar la pendiente de la función.\n",
    "\n",
    "## Fórmula de Iteración\n",
    "\n",
    "La fórmula de actualización es:\n",
    "\n",
    "$$\n",
    "x_n = x_{n-1} - f(x_{n-1}) \\cdot \\frac{x_{n-1} - x_{n-2}}{f(x_{n-1}) - f(x_{n-2})}\n",
    "$$\n",
    "\n",
    "Este método puede ser útil cuando la derivada de \\( f(x) \\) es difícil de calcular o no está disponible.\n",
    "\n",
    "## Ejemplo\n",
    "\n",
    "Probemos con la función:\n",
    "\n",
    "$$\n",
    "f(x) = \\cos(x) - x = 0\n",
    "$$\n",
    "\n"
   ]
  },
  {
   "cell_type": "code",
   "execution_count": 41,
   "id": "84b8634c",
   "metadata": {},
   "outputs": [
    {
     "name": "stdout",
     "output_type": "stream",
     "text": [
      "Iter\tX0\t\tX1\t\tError\n",
      "--------------------------------------------------\n",
      "0   \t0.500000  \t0.785398  \t1.359699  \n",
      "1   \t0.785398  \t-0.574300 \t0.631889  \n",
      "2   \t-0.574300 \t0.057588  \t0.067318  \n",
      "3   \t0.057588  \t-0.009730 \t0.009744  \n",
      "4   \t-0.009730 \t0.000013  \t0.000013  \n",
      "5   \t0.000013  \t-0.000000 \t0.000000  \n",
      "\n",
      "Resultado final:\n",
      "Raíz encontrada: 0.00000000\n",
      "Iteraciones realizadas: 5\n",
      "Convergencia alcanzada.\n"
     ]
    }
   ],
   "source": [
    "# Metodo de la secante\n",
    "import math\n",
    "from math import pi, cos\n",
    "\n",
    "def secante(funcion, x0, x1, tol, max_iteraciones):\n",
    "    # Cabecera de la tabla\n",
    "    print(\"Iter\\tX0\\t\\tX1\\t\\tError\")\n",
    "    print(\"-\" * 50)\n",
    "\n",
    "    iteracion = 0\n",
    "\n",
    "    while iteracion < max_iteraciones:\n",
    "        fx0 = funcion(x0)\n",
    "        fx1 = funcion(x1)\n",
    "\n",
    "        if fx1 - fx0 == 0:\n",
    "            return None, iteracion, \"La diferencia entre las funciones es cero. No se puede continuar.\"\n",
    "\n",
    "        x2 = x1 - fx1 * (x1 - x0) / (fx1 - fx0)\n",
    "        error = abs(x2 - x1)\n",
    "\n",
    "        print(f\"{iteracion:<4d}\\t{x0:<10.6f}\\t{x1:<10.6f}\\t{error:<10.6f}\")\n",
    "\n",
    "        if error < tol:\n",
    "            return x2, iteracion, \"Convergencia alcanzada.\"\n",
    "\n",
    "        x0, x1 = x1, x2\n",
    "        iteracion += 1\n",
    "\n",
    "    return None, iteracion, \"El proceso falló después del número máximo de iteraciones.\"\n",
    "\n",
    "# Ejemplo de uso\n",
    "\n",
    "if __name__ == \"__main__\":\n",
    "    def f(x):\n",
    "        \"\"\"Ejemplo de función f(x)\"\"\"\n",
    "        return cos(x)* - x\n",
    "\n",
    "    x0 = 0.5  # Valor inicial\n",
    "    x1 = pi/4  # Segundo valor inicial\n",
    "    tol = 1e-5\n",
    "    max_iteraciones = 100\n",
    "\n",
    "    raiz, iteracion, mensaje = secante(f, x0, x1, tol, max_iteraciones)\n",
    "    \n",
    "    print(\"\\nResultado final:\")\n",
    "    if raiz is not None:\n",
    "        print(f\"Raíz encontrada: {raiz:.8f}\")\n",
    "    print(f\"Iteraciones realizadas: {iteracion}\") \n",
    "    print(mensaje)"
   ]
  },
  {
   "cell_type": "markdown",
   "id": "5444f401",
   "metadata": {},
   "source": [
    "# CLASE 05 (07/05/2025)\n",
    "\n",
    "## Método de la Posición Falsa (Regula Falsi)\n",
    "\n",
    "El método de la posición falsa, también conocido como **Regula Falsi**, es un procedimiento para encontrar raíces de funciones que combina ideas del método de la bisección y de la secante.\n",
    "\n",
    "Utiliza la siguiente fórmula:\n",
    "\n",
    "$$\n",
    "x_n = x_{n-1} - f(x_{n-1}) \\cdot \\frac{x_{n-1} - x_{n-2}}{f(x_{n-1}) - f(x_{n-2})}\n",
    "$$\n",
    "\n",
    "Este método es gráficamente similar al método de la secante. Sin embargo, a diferencia de este último, **la posición falsa garantiza que el intervalo siga conteniendo una raíz**, ya que requiere que:\n",
    "\n",
    "$$\n",
    "\\text{sgn}(f(p_2)) \\cdot \\text{sgn}(f(p_1)) < 0\n",
    "$$\n",
    "\n",
    "Esta condición asegura que \\( f(x) \\) cambia de signo entre \\( p_1 \\) y \\( p_2 \\), lo cual implica que hay una raíz en ese intervalo (por el teorema de Bolzano).\n",
    "\n",
    "## Ejemplo\n",
    "\n",
    "Vamos a resolver el siguiente ejercicio usando el método de la posición falsa:\n",
    "\n",
    "$$\n",
    "f(x) = \\cos(x) - x = 0, \\quad \\text{con } p_0 = 0.5 \\text{ y } p_1 = \\frac{\\pi}{4}\n",
    "$$\n",
    "\n"
   ]
  },
  {
   "cell_type": "code",
   "execution_count": 42,
   "id": "d02de946",
   "metadata": {},
   "outputs": [
    {
     "name": "stdout",
     "output_type": "stream",
     "text": [
      "Iter\tA\t\tB\t\tP\t\tF(A)\tF(B)\tF(P)\tTOL\n",
      "------------------------------------------------------------------------------------------\n",
      "0\t0.500000\t0.785398\t0.736384\t1\t-1\t1\t0.236384\n",
      "1\t0.736384\t0.785398\t0.739058\t1\t-1\t1\t0.002674\n",
      "2\t0.739058\t0.785398\t0.739085\t1\t-1\t1\t0.000027\n",
      "\n",
      "Resultado final:\n",
      "Raíz encontrada: 0.73908486\n",
      "Iteraciones realizadas: 2\n",
      "Convergencia alcanzada.\n"
     ]
    }
   ],
   "source": [
    "import math\n",
    "from math import pi, cos\n",
    "\n",
    "# Función para obtener el signo\n",
    "def signum(x):\n",
    "    return 1 if x > 0 else -1 if x < 0 else 0\n",
    "\n",
    "def falsa_posicion(funcion, a, b, tol, max_iteraciones):\n",
    "    # Verificar que los extremos iniciales tienen signos opuestos\n",
    "    fa = funcion(a)\n",
    "    fb = funcion(b)\n",
    "    if signum(fa) == signum(fb) and fa != 0:\n",
    "        return None, 0, \"La función debe cambiar de signo en el intervalo dado.\"\n",
    "\n",
    "    print(\"Iter\\tA\\t\\tB\\t\\tP\\t\\tF(A)\\tF(B)\\tF(P)\\tTOL\")\n",
    "    print(\"-\" * 90)\n",
    "\n",
    "    iteracion = 0\n",
    "    p_anterior = a  # inicialización segura\n",
    "    while iteracion < max_iteraciones:\n",
    "        p = b - fb * (b - a) / (fb - fa)\n",
    "        fp = funcion(p)\n",
    "        tol_actual = abs(p - p_anterior)\n",
    "\n",
    "        print(f\"{iteracion}\\t{a:.6f}\\t{b:.6f}\\t{p:.6f}\\t{signum(fa)}\\t{signum(fb)}\\t{signum(fp)}\\t{tol_actual:.6f}\")\n",
    "\n",
    "        if abs(fp) < tol or tol_actual < tol:\n",
    "            return p, iteracion, \"Convergencia alcanzada.\"\n",
    "\n",
    "        if signum(fa) == signum(fp):\n",
    "            a = p\n",
    "            fa = fp\n",
    "        else:\n",
    "            b = p\n",
    "            fb = fp\n",
    "\n",
    "        p_anterior = p\n",
    "        iteracion += 1\n",
    "\n",
    "    return None, iteracion, \"El proceso falló después del número máximo de iteraciones.\"\n",
    "\n",
    "# Ejemplo de uso\n",
    "if __name__ == \"__main__\":\n",
    "    def f(x):\n",
    "        return math.cos(x) - x\n",
    "\n",
    "    a, b = 0.5, pi/4  # Intervalo inicial (puedes invertir si prefieres a < b)\n",
    "    tol = 1e-5\n",
    "    max_iter = 100\n",
    "\n",
    "    raiz, iteraciones, mensaje = falsa_posicion(f, a, b, tol, max_iter)\n",
    "\n",
    "    print(\"\\nResultado final:\")\n",
    "    if raiz is not None:\n",
    "        print(f\"Raíz encontrada: {raiz:.8f}\")\n",
    "        print(f\"Iteraciones realizadas: {iteraciones}\")\n",
    "    print(mensaje)\n",
    "\n",
    "\n"
   ]
  }
 ],
 "metadata": {
  "kernelspec": {
   "display_name": "Python 3",
   "language": "python",
   "name": "python3"
  },
  "language_info": {
   "codemirror_mode": {
    "name": "ipython",
    "version": 3
   },
   "file_extension": ".py",
   "mimetype": "text/x-python",
   "name": "python",
   "nbconvert_exporter": "python",
   "pygments_lexer": "ipython3",
   "version": "3.13.2"
  }
 },
 "nbformat": 4,
 "nbformat_minor": 5
}
